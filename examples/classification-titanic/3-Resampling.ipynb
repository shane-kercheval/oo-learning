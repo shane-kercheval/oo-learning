{
 "cells": [
  {
   "cell_type": "markdown",
   "metadata": {},
   "source": [
    "# Table of Contents\n",
    "\n",
    "\n",
    "* **Geting Started**\n",
    "* **Resampling**\n",
    "* **Decorators**"
   ]
  },
  {
   "cell_type": "markdown",
   "metadata": {},
   "source": [
    "Note: this notebook is meant to be a demo of some of the capabilities of **`oo-learning`** (https://github.com/shane-kercheval/oo-learning); it is not meant to show the best approach to exploring/cleaning/modeling this particular dataset. Also, with most graphs (e.g. correlations/box-plots/etc.) I will spend very little time commenting on the significance of any interesting or patterns. Again, the intent is to show a demo, not a guide to data analysis. "
   ]
  },
  {
   "cell_type": "markdown",
   "metadata": {},
   "source": [
    "# Getting Started\n",
    "\n",
    "In this notebook, we'll see how to do 'repeated cross-validation' via **`RepeatedCrossValidationResampler`** class."
   ]
  },
  {
   "cell_type": "markdown",
   "metadata": {},
   "source": [
    "## Set Up Environment"
   ]
  },
  {
   "cell_type": "code",
   "execution_count": 1,
   "metadata": {},
   "outputs": [],
   "source": [
    "# !pip install oolearning --upgrade"
   ]
  },
  {
   "cell_type": "code",
   "execution_count": 3,
   "metadata": {},
   "outputs": [],
   "source": [
    "from oolearning import *\n",
    "import pandas as pd\n",
    "import matplotlib.pyplot as plt\n",
    "\n",
    "%matplotlib inline\n",
    "pd.set_option('display.max_colwidth', -1)\n",
    "pd.set_option('display.max_columns', None)\n",
    "pd.set_option('display.max_rows', None)\n",
    "width = 10\n",
    "plt.rcParams['figure.figsize'] = [width, width/1.333]"
   ]
  },
  {
   "cell_type": "markdown",
   "metadata": {},
   "source": [
    "## Import Data"
   ]
  },
  {
   "cell_type": "markdown",
   "metadata": {},
   "source": [
    "`ExploreClassificationDataset` is a convenience class described in the [first notebook of this series](https://github.com/shane-kercheval/oo-learning/blob/master/examples/classification-titanic/1-Exploring%20the%20Titanic%20Dataset.ipynb)."
   ]
  },
  {
   "cell_type": "code",
   "execution_count": 4,
   "metadata": {},
   "outputs": [],
   "source": [
    "csv_file = '../data/titanic.csv'\n",
    "target_variable = 'Survived'\n",
    "target_mapping = {0: 'died', 1: 'lived'}  # so we can convert from numeric to categoric\n",
    "\n",
    "explore = ExploreClassificationDataset.from_csv(csv_file_path=csv_file,\n",
    "                                                target_variable=target_variable,\n",
    "                                                map_numeric_target=target_mapping)"
   ]
  },
  {
   "cell_type": "code",
   "execution_count": 5,
   "metadata": {},
   "outputs": [
    {
     "data": {
      "text/html": [
       "<div>\n",
       "<style scoped>\n",
       "    .dataframe tbody tr th:only-of-type {\n",
       "        vertical-align: middle;\n",
       "    }\n",
       "\n",
       "    .dataframe tbody tr th {\n",
       "        vertical-align: top;\n",
       "    }\n",
       "\n",
       "    .dataframe thead th {\n",
       "        text-align: right;\n",
       "    }\n",
       "</style>\n",
       "<table border=\"1\" class=\"dataframe\">\n",
       "  <thead>\n",
       "    <tr style=\"text-align: right;\">\n",
       "      <th></th>\n",
       "      <th>PassengerId</th>\n",
       "      <th>Survived</th>\n",
       "      <th>Pclass</th>\n",
       "      <th>Name</th>\n",
       "      <th>Sex</th>\n",
       "      <th>Age</th>\n",
       "      <th>SibSp</th>\n",
       "      <th>Parch</th>\n",
       "      <th>Ticket</th>\n",
       "      <th>Fare</th>\n",
       "      <th>Cabin</th>\n",
       "      <th>Embarked</th>\n",
       "    </tr>\n",
       "  </thead>\n",
       "  <tbody>\n",
       "    <tr>\n",
       "      <th>0</th>\n",
       "      <td>1</td>\n",
       "      <td>died</td>\n",
       "      <td>3</td>\n",
       "      <td>Braund, Mr. Owen Harris</td>\n",
       "      <td>male</td>\n",
       "      <td>22.0</td>\n",
       "      <td>1</td>\n",
       "      <td>0</td>\n",
       "      <td>A/5 21171</td>\n",
       "      <td>7.2500</td>\n",
       "      <td>NaN</td>\n",
       "      <td>S</td>\n",
       "    </tr>\n",
       "    <tr>\n",
       "      <th>1</th>\n",
       "      <td>2</td>\n",
       "      <td>lived</td>\n",
       "      <td>1</td>\n",
       "      <td>Cumings, Mrs. John Bradley (Florence Briggs Thayer)</td>\n",
       "      <td>female</td>\n",
       "      <td>38.0</td>\n",
       "      <td>1</td>\n",
       "      <td>0</td>\n",
       "      <td>PC 17599</td>\n",
       "      <td>71.2833</td>\n",
       "      <td>C85</td>\n",
       "      <td>C</td>\n",
       "    </tr>\n",
       "    <tr>\n",
       "      <th>2</th>\n",
       "      <td>3</td>\n",
       "      <td>lived</td>\n",
       "      <td>3</td>\n",
       "      <td>Heikkinen, Miss. Laina</td>\n",
       "      <td>female</td>\n",
       "      <td>26.0</td>\n",
       "      <td>0</td>\n",
       "      <td>0</td>\n",
       "      <td>STON/O2. 3101282</td>\n",
       "      <td>7.9250</td>\n",
       "      <td>NaN</td>\n",
       "      <td>S</td>\n",
       "    </tr>\n",
       "    <tr>\n",
       "      <th>3</th>\n",
       "      <td>4</td>\n",
       "      <td>lived</td>\n",
       "      <td>1</td>\n",
       "      <td>Futrelle, Mrs. Jacques Heath (Lily May Peel)</td>\n",
       "      <td>female</td>\n",
       "      <td>35.0</td>\n",
       "      <td>1</td>\n",
       "      <td>0</td>\n",
       "      <td>113803</td>\n",
       "      <td>53.1000</td>\n",
       "      <td>C123</td>\n",
       "      <td>S</td>\n",
       "    </tr>\n",
       "    <tr>\n",
       "      <th>4</th>\n",
       "      <td>5</td>\n",
       "      <td>died</td>\n",
       "      <td>3</td>\n",
       "      <td>Allen, Mr. William Henry</td>\n",
       "      <td>male</td>\n",
       "      <td>35.0</td>\n",
       "      <td>0</td>\n",
       "      <td>0</td>\n",
       "      <td>373450</td>\n",
       "      <td>8.0500</td>\n",
       "      <td>NaN</td>\n",
       "      <td>S</td>\n",
       "    </tr>\n",
       "  </tbody>\n",
       "</table>\n",
       "</div>"
      ],
      "text/plain": [
       "   PassengerId Survived  Pclass                                                 Name     Sex   Age  SibSp  Parch            Ticket     Fare Cabin Embarked\n",
       "0  1            died     3       Braund, Mr. Owen Harris                              male    22.0  1      0      A/5 21171         7.2500   NaN   S      \n",
       "1  2            lived    1       Cumings, Mrs. John Bradley (Florence Briggs Thayer)  female  38.0  1      0      PC 17599          71.2833  C85   C      \n",
       "2  3            lived    3       Heikkinen, Miss. Laina                               female  26.0  0      0      STON/O2. 3101282  7.9250   NaN   S      \n",
       "3  4            lived    1       Futrelle, Mrs. Jacques Heath (Lily May Peel)         female  35.0  1      0      113803            53.1000  C123  S      \n",
       "4  5            died     3       Allen, Mr. William Henry                             male    35.0  0      0      373450            8.0500   NaN   S      "
      ]
     },
     "execution_count": 5,
     "metadata": {},
     "output_type": "execute_result"
    }
   ],
   "source": [
    "explore.dataset.head()"
   ]
  },
  {
   "cell_type": "markdown",
   "metadata": {},
   "source": [
    "# Resampling"
   ]
  },
  {
   "cell_type": "markdown",
   "metadata": {},
   "source": [
    "A Resampler is an object that defines how to 'resample' a data set, for example 'repeated cross-validation', and provides information about the performance of the model fit on the resampled data."
   ]
  },
  {
   "cell_type": "code",
   "execution_count": 6,
   "metadata": {},
   "outputs": [],
   "source": [
    "# separate the features from the target variable\n",
    "data_x = explore.dataset.drop(columns='Survived')\n",
    "data_y = explore.dataset.Survived\n",
    "\n",
    "# define the transformations\n",
    "transformations = [RemoveColumnsTransformer(['PassengerId', 'Name', 'Ticket', 'Cabin']),\n",
    "                   CategoricConverterTransformer(['Pclass', 'SibSp', 'Parch']),\n",
    "                   ImputationTransformer(),\n",
    "                   DummyEncodeTransformer(CategoricalEncoding.ONE_HOT)]\n",
    "\n",
    "# define the scores, which will be used to compare the performance of each fold and overall\n",
    "# the scores need a Converter, which contains the logic necessary to convert the predicted values to a predicted class.\n",
    "score_list = [AucRocScore(positive_class='lived'),\n",
    "              KappaScore(converter=TwoClassThresholdConverter(threshold=0.5, positive_class='lived')),\n",
    "              SensitivityScore(converter=TwoClassThresholdConverter(threshold=0.5, positive_class='lived')),\n",
    "              SpecificityScore(converter=TwoClassThresholdConverter(threshold=0.5, positive_class='lived')),\n",
    "              ErrorRateScore(converter=TwoClassThresholdConverter(threshold=0.5, positive_class='lived'))]\n",
    "\n",
    "# define & configure the Resampler object\n",
    "resampler = RepeatedCrossValidationResampler(\n",
    "    model=RandomForestClassifier(),  # we'll use a Random Forest model\n",
    "    transformations=transformations,\n",
    "    scores=score_list,\n",
    "    folds=5,  # 5 folds with 5 repeats\n",
    "    repeats=5,\n",
    "    parallelization_cores=-1)  # adds parallelization (per repeat)\n",
    "\n",
    "# resample\n",
    "resampler.resample(data_x=data_x, data_y=data_y, hyper_params=RandomForestHP())  # default Random Forest Hyper Parameters"
   ]
  },
  {
   "cell_type": "markdown",
   "metadata": {},
   "source": [
    "We can look in the **`results`** property of the **`Resampler`** object to access various information, such as the cross validation scores, below.\n",
    "\n",
    "There should be 1 row for each fold, multiplied by the number of repeats, so 25 rows; with each column corresponding to the Score objects that were passed in as a list to the Resampler."
   ]
  },
  {
   "cell_type": "code",
   "execution_count": 7,
   "metadata": {},
   "outputs": [
    {
     "data": {
      "text/html": [
       "<div>\n",
       "<style scoped>\n",
       "    .dataframe tbody tr th:only-of-type {\n",
       "        vertical-align: middle;\n",
       "    }\n",
       "\n",
       "    .dataframe tbody tr th {\n",
       "        vertical-align: top;\n",
       "    }\n",
       "\n",
       "    .dataframe thead th {\n",
       "        text-align: right;\n",
       "    }\n",
       "</style>\n",
       "<table border=\"1\" class=\"dataframe\">\n",
       "  <thead>\n",
       "    <tr style=\"text-align: right;\">\n",
       "      <th></th>\n",
       "      <th>AUC_ROC</th>\n",
       "      <th>kappa</th>\n",
       "      <th>sensitivity</th>\n",
       "      <th>specificity</th>\n",
       "      <th>error_rate</th>\n",
       "    </tr>\n",
       "  </thead>\n",
       "  <tbody>\n",
       "    <tr>\n",
       "      <th>0</th>\n",
       "      <td>0.880159</td>\n",
       "      <td>0.598479</td>\n",
       "      <td>0.736111</td>\n",
       "      <td>0.857143</td>\n",
       "      <td>0.192090</td>\n",
       "    </tr>\n",
       "    <tr>\n",
       "      <th>1</th>\n",
       "      <td>0.858232</td>\n",
       "      <td>0.584811</td>\n",
       "      <td>0.722222</td>\n",
       "      <td>0.865546</td>\n",
       "      <td>0.179191</td>\n",
       "    </tr>\n",
       "    <tr>\n",
       "      <th>2</th>\n",
       "      <td>0.820824</td>\n",
       "      <td>0.598827</td>\n",
       "      <td>0.701493</td>\n",
       "      <td>0.884615</td>\n",
       "      <td>0.187135</td>\n",
       "    </tr>\n",
       "    <tr>\n",
       "      <th>3</th>\n",
       "      <td>0.851730</td>\n",
       "      <td>0.616857</td>\n",
       "      <td>0.695122</td>\n",
       "      <td>0.905983</td>\n",
       "      <td>0.180905</td>\n",
       "    </tr>\n",
       "    <tr>\n",
       "      <th>4</th>\n",
       "      <td>0.868901</td>\n",
       "      <td>0.620625</td>\n",
       "      <td>0.776119</td>\n",
       "      <td>0.846154</td>\n",
       "      <td>0.181287</td>\n",
       "    </tr>\n",
       "    <tr>\n",
       "      <th>5</th>\n",
       "      <td>0.819691</td>\n",
       "      <td>0.587802</td>\n",
       "      <td>0.689189</td>\n",
       "      <td>0.885714</td>\n",
       "      <td>0.195531</td>\n",
       "    </tr>\n",
       "    <tr>\n",
       "      <th>6</th>\n",
       "      <td>0.825882</td>\n",
       "      <td>0.494984</td>\n",
       "      <td>0.681159</td>\n",
       "      <td>0.811321</td>\n",
       "      <td>0.240000</td>\n",
       "    </tr>\n",
       "    <tr>\n",
       "      <th>7</th>\n",
       "      <td>0.852466</td>\n",
       "      <td>0.566031</td>\n",
       "      <td>0.750000</td>\n",
       "      <td>0.826446</td>\n",
       "      <td>0.200000</td>\n",
       "    </tr>\n",
       "    <tr>\n",
       "      <th>8</th>\n",
       "      <td>0.817811</td>\n",
       "      <td>0.480826</td>\n",
       "      <td>0.666667</td>\n",
       "      <td>0.814159</td>\n",
       "      <td>0.238636</td>\n",
       "    </tr>\n",
       "    <tr>\n",
       "      <th>9</th>\n",
       "      <td>0.911993</td>\n",
       "      <td>0.725597</td>\n",
       "      <td>0.791667</td>\n",
       "      <td>0.923077</td>\n",
       "      <td>0.130682</td>\n",
       "    </tr>\n",
       "    <tr>\n",
       "      <th>10</th>\n",
       "      <td>0.886120</td>\n",
       "      <td>0.659558</td>\n",
       "      <td>0.734375</td>\n",
       "      <td>0.909910</td>\n",
       "      <td>0.154286</td>\n",
       "    </tr>\n",
       "    <tr>\n",
       "      <th>11</th>\n",
       "      <td>0.926201</td>\n",
       "      <td>0.696278</td>\n",
       "      <td>0.867647</td>\n",
       "      <td>0.844037</td>\n",
       "      <td>0.146893</td>\n",
       "    </tr>\n",
       "    <tr>\n",
       "      <th>12</th>\n",
       "      <td>0.846539</td>\n",
       "      <td>0.621006</td>\n",
       "      <td>0.783133</td>\n",
       "      <td>0.838983</td>\n",
       "      <td>0.184080</td>\n",
       "    </tr>\n",
       "    <tr>\n",
       "      <th>13</th>\n",
       "      <td>0.844431</td>\n",
       "      <td>0.566116</td>\n",
       "      <td>0.651515</td>\n",
       "      <td>0.894737</td>\n",
       "      <td>0.194444</td>\n",
       "    </tr>\n",
       "    <tr>\n",
       "      <th>14</th>\n",
       "      <td>0.792547</td>\n",
       "      <td>0.401618</td>\n",
       "      <td>0.590164</td>\n",
       "      <td>0.804124</td>\n",
       "      <td>0.278481</td>\n",
       "    </tr>\n",
       "    <tr>\n",
       "      <th>15</th>\n",
       "      <td>0.876004</td>\n",
       "      <td>0.721971</td>\n",
       "      <td>0.762712</td>\n",
       "      <td>0.938596</td>\n",
       "      <td>0.121387</td>\n",
       "    </tr>\n",
       "    <tr>\n",
       "      <th>16</th>\n",
       "      <td>0.835434</td>\n",
       "      <td>0.553445</td>\n",
       "      <td>0.727273</td>\n",
       "      <td>0.823529</td>\n",
       "      <td>0.217877</td>\n",
       "    </tr>\n",
       "    <tr>\n",
       "      <th>17</th>\n",
       "      <td>0.868430</td>\n",
       "      <td>0.652632</td>\n",
       "      <td>0.698113</td>\n",
       "      <td>0.928571</td>\n",
       "      <td>0.145455</td>\n",
       "    </tr>\n",
       "    <tr>\n",
       "      <th>18</th>\n",
       "      <td>0.824068</td>\n",
       "      <td>0.482590</td>\n",
       "      <td>0.762712</td>\n",
       "      <td>0.740000</td>\n",
       "      <td>0.251572</td>\n",
       "    </tr>\n",
       "    <tr>\n",
       "      <th>19</th>\n",
       "      <td>0.878803</td>\n",
       "      <td>0.578131</td>\n",
       "      <td>0.702128</td>\n",
       "      <td>0.867769</td>\n",
       "      <td>0.204651</td>\n",
       "    </tr>\n",
       "    <tr>\n",
       "      <th>20</th>\n",
       "      <td>0.865112</td>\n",
       "      <td>0.635003</td>\n",
       "      <td>0.779221</td>\n",
       "      <td>0.854545</td>\n",
       "      <td>0.176471</td>\n",
       "    </tr>\n",
       "    <tr>\n",
       "      <th>21</th>\n",
       "      <td>0.862276</td>\n",
       "      <td>0.578829</td>\n",
       "      <td>0.691358</td>\n",
       "      <td>0.877358</td>\n",
       "      <td>0.203209</td>\n",
       "    </tr>\n",
       "    <tr>\n",
       "      <th>22</th>\n",
       "      <td>0.855007</td>\n",
       "      <td>0.581558</td>\n",
       "      <td>0.768116</td>\n",
       "      <td>0.819820</td>\n",
       "      <td>0.200000</td>\n",
       "    </tr>\n",
       "    <tr>\n",
       "      <th>23</th>\n",
       "      <td>0.844504</td>\n",
       "      <td>0.537164</td>\n",
       "      <td>0.666667</td>\n",
       "      <td>0.863248</td>\n",
       "      <td>0.201149</td>\n",
       "    </tr>\n",
       "    <tr>\n",
       "      <th>24</th>\n",
       "      <td>0.874302</td>\n",
       "      <td>0.553202</td>\n",
       "      <td>0.689655</td>\n",
       "      <td>0.857143</td>\n",
       "      <td>0.202454</td>\n",
       "    </tr>\n",
       "  </tbody>\n",
       "</table>\n",
       "</div>"
      ],
      "text/plain": [
       "     AUC_ROC     kappa  sensitivity  specificity  error_rate\n",
       "0   0.880159  0.598479  0.736111     0.857143     0.192090  \n",
       "1   0.858232  0.584811  0.722222     0.865546     0.179191  \n",
       "2   0.820824  0.598827  0.701493     0.884615     0.187135  \n",
       "3   0.851730  0.616857  0.695122     0.905983     0.180905  \n",
       "4   0.868901  0.620625  0.776119     0.846154     0.181287  \n",
       "5   0.819691  0.587802  0.689189     0.885714     0.195531  \n",
       "6   0.825882  0.494984  0.681159     0.811321     0.240000  \n",
       "7   0.852466  0.566031  0.750000     0.826446     0.200000  \n",
       "8   0.817811  0.480826  0.666667     0.814159     0.238636  \n",
       "9   0.911993  0.725597  0.791667     0.923077     0.130682  \n",
       "10  0.886120  0.659558  0.734375     0.909910     0.154286  \n",
       "11  0.926201  0.696278  0.867647     0.844037     0.146893  \n",
       "12  0.846539  0.621006  0.783133     0.838983     0.184080  \n",
       "13  0.844431  0.566116  0.651515     0.894737     0.194444  \n",
       "14  0.792547  0.401618  0.590164     0.804124     0.278481  \n",
       "15  0.876004  0.721971  0.762712     0.938596     0.121387  \n",
       "16  0.835434  0.553445  0.727273     0.823529     0.217877  \n",
       "17  0.868430  0.652632  0.698113     0.928571     0.145455  \n",
       "18  0.824068  0.482590  0.762712     0.740000     0.251572  \n",
       "19  0.878803  0.578131  0.702128     0.867769     0.204651  \n",
       "20  0.865112  0.635003  0.779221     0.854545     0.176471  \n",
       "21  0.862276  0.578829  0.691358     0.877358     0.203209  \n",
       "22  0.855007  0.581558  0.768116     0.819820     0.200000  \n",
       "23  0.844504  0.537164  0.666667     0.863248     0.201149  \n",
       "24  0.874302  0.553202  0.689655     0.857143     0.202454  "
      ]
     },
     "execution_count": 7,
     "metadata": {},
     "output_type": "execute_result"
    }
   ],
   "source": [
    "resampler.results.resampled_scores"
   ]
  },
  {
   "cell_type": "markdown",
   "metadata": {},
   "source": [
    "Here are the corresponding **`means`**, **`standard deviations`**, and **`coefficients of variation`** for each of the Scores, from the above results"
   ]
  },
  {
   "cell_type": "code",
   "execution_count": 10,
   "metadata": {},
   "outputs": [
    {
     "data": {
      "text/plain": [
       "{'AUC_ROC': 0.8554986692000307,\n",
       " 'kappa': 0.587757500452066,\n",
       " 'sensitivity': 0.7233814700311453,\n",
       " 'specificity': 0.8593011748918328,\n",
       " 'error_rate': 0.1923145611956626}"
      ]
     },
     "execution_count": 10,
     "metadata": {},
     "output_type": "execute_result"
    }
   ],
   "source": [
    "resampler.results.score_means"
   ]
  },
  {
   "cell_type": "code",
   "execution_count": 11,
   "metadata": {},
   "outputs": [
    {
     "data": {
      "text/plain": [
       "{'AUC_ROC': 0.030296174769045763,\n",
       " 'kappa': 0.0751376714669462,\n",
       " 'sensitivity': 0.0569631942630327,\n",
       " 'specificity': 0.04533489648607474,\n",
       " 'error_rate': 0.036456701907904364}"
      ]
     },
     "execution_count": 11,
     "metadata": {},
     "output_type": "execute_result"
    }
   ],
   "source": [
    "resampler.results.score_standard_deviations"
   ]
  },
  {
   "cell_type": "code",
   "execution_count": 12,
   "metadata": {},
   "outputs": [
    {
     "data": {
      "text/plain": [
       "{'AUC_ROC': 0.04,\n",
       " 'kappa': 0.13,\n",
       " 'sensitivity': 0.08,\n",
       " 'specificity': 0.05,\n",
       " 'error_rate': 0.19}"
      ]
     },
     "execution_count": 12,
     "metadata": {},
     "output_type": "execute_result"
    }
   ],
   "source": [
    "resampler.results.score_coefficients_of_variation"
   ]
  },
  {
   "cell_type": "markdown",
   "metadata": {},
   "source": [
    "Or, to see this as a DataFrame:"
   ]
  },
  {
   "cell_type": "code",
   "execution_count": 13,
   "metadata": {},
   "outputs": [
    {
     "data": {
      "text/html": [
       "<div>\n",
       "<style scoped>\n",
       "    .dataframe tbody tr th:only-of-type {\n",
       "        vertical-align: middle;\n",
       "    }\n",
       "\n",
       "    .dataframe tbody tr th {\n",
       "        vertical-align: top;\n",
       "    }\n",
       "\n",
       "    .dataframe thead th {\n",
       "        text-align: right;\n",
       "    }\n",
       "</style>\n",
       "<table border=\"1\" class=\"dataframe\">\n",
       "  <thead>\n",
       "    <tr style=\"text-align: right;\">\n",
       "      <th></th>\n",
       "      <th>AUC_ROC</th>\n",
       "      <th>kappa</th>\n",
       "      <th>sensitivity</th>\n",
       "      <th>specificity</th>\n",
       "      <th>error_rate</th>\n",
       "    </tr>\n",
       "  </thead>\n",
       "  <tbody>\n",
       "    <tr>\n",
       "      <th>means</th>\n",
       "      <td>0.855499</td>\n",
       "      <td>0.587758</td>\n",
       "      <td>0.723381</td>\n",
       "      <td>0.859301</td>\n",
       "      <td>0.192315</td>\n",
       "    </tr>\n",
       "    <tr>\n",
       "      <th>standard deviations</th>\n",
       "      <td>0.030296</td>\n",
       "      <td>0.075138</td>\n",
       "      <td>0.056963</td>\n",
       "      <td>0.045335</td>\n",
       "      <td>0.036457</td>\n",
       "    </tr>\n",
       "    <tr>\n",
       "      <th>coefficients of variation</th>\n",
       "      <td>0.040000</td>\n",
       "      <td>0.130000</td>\n",
       "      <td>0.080000</td>\n",
       "      <td>0.050000</td>\n",
       "      <td>0.190000</td>\n",
       "    </tr>\n",
       "  </tbody>\n",
       "</table>\n",
       "</div>"
      ],
      "text/plain": [
       "                            AUC_ROC     kappa  sensitivity  specificity  error_rate\n",
       "means                      0.855499  0.587758  0.723381     0.859301     0.192315  \n",
       "standard deviations        0.030296  0.075138  0.056963     0.045335     0.036457  \n",
       "coefficients of variation  0.040000  0.130000  0.080000     0.050000     0.190000  "
      ]
     },
     "execution_count": 13,
     "metadata": {},
     "output_type": "execute_result"
    }
   ],
   "source": [
    "resampler.results.score_stats"
   ]
  },
  {
   "cell_type": "markdown",
   "metadata": {},
   "source": [
    "We can also visualize the Scores for each fold/repeat via boxplot:"
   ]
  },
  {
   "cell_type": "code",
   "execution_count": 14,
   "metadata": {},
   "outputs": [
    {
     "data": {
      "image/png": "[encoded data removed]",
      "text/plain": [
       "<Figure size 720x540.135 with 1 Axes>"
      ]
     },
     "metadata": {},
     "output_type": "display_data"
    }
   ],
   "source": [
    "resampler.results.plot_resampled_scores()"
   ]
  },
  {
   "cell_type": "markdown",
   "metadata": {},
   "source": [
    "# Decorators\n",
    "\n",
    "In object-oriented programming, the `decorator` pattern is described as a way to \"attach additional responsibilities to an object dynamically. Decorators provide a flexible alternative to subclassing for extending functionality.\" (https://sourcemaking.com/design_patterns/decorator)\n",
    "\n",
    "We will use a Decorator object to \"attach additional responsibility\" to a Resampler, dynamically. One example is with a **`TwoClassThresholdDecorator`** class. This Decorator is passed into a Resampler and, for each time the model is trained in the Resampler (i.e., per fold/repeat in the case of a `RepeatedCrossValidationResampler` object), the Decorator calculates the ideal thresholds (at that fold/repeat) that minimize the distance to the upper left corner for the ROC curve, and minimizes the distance to the upper right corner for the Precision/Recall curve (i.e. balancing the inherent trade-offs in both curves).\n",
    "\n",
    "We can then take, for example, the mean of these thresholds, and use that to convert our predictions DataFrame (that have continuous values for each class, as columns) into specific class predictions."
   ]
  },
  {
   "cell_type": "code",
   "execution_count": 15,
   "metadata": {},
   "outputs": [],
   "source": [
    "decorator = TwoClassThresholdDecorator()\n",
    "\n",
    "# define the transformations\n",
    "transformations = [RemoveColumnsTransformer(['PassengerId', 'Name', 'Ticket', 'Cabin']),\n",
    "                   CategoricConverterTransformer(['Pclass', 'SibSp', 'Parch']),\n",
    "                   ImputationTransformer(),\n",
    "                   DummyEncodeTransformer(CategoricalEncoding.ONE_HOT)]\n",
    "\n",
    "# define the scores, which will be used to compare the performance of each fold and overall\n",
    "# the scores need a Converter, which contains the logic necessary to convert the predicted values to a predicted class.\n",
    "score_list = [AucRocScore(positive_class='lived'),\n",
    "              KappaScore(converter=TwoClassThresholdConverter(threshold=0.5, positive_class='lived')),\n",
    "              SensitivityScore(converter=TwoClassThresholdConverter(threshold=0.5, positive_class='lived')),\n",
    "              SpecificityScore(converter=TwoClassThresholdConverter(threshold=0.5, positive_class='lived')),\n",
    "              ErrorRateScore(converter=TwoClassThresholdConverter(threshold=0.5, positive_class='lived'))]\n",
    "\n",
    "# define & configure the Resampler object\n",
    "resampler = RepeatedCrossValidationResampler(\n",
    "    model=RandomForestClassifier(),  # we'll use a Random Forest model\n",
    "    transformations=transformations,\n",
    "    scores=score_list,\n",
    "    folds=5,  # 5 folds with 5 repeats\n",
    "    repeats=5,\n",
    "    fold_decorators=[decorator])\n",
    "# NOTE: we cannot set/use `parallelization_cores` in `RepeatedCrossValidationResampler` because the \n",
    "# `TwoClassThresholdDecorator` uses parallelization via `TwoClassRocOptimizerConverter` and\n",
    "# `TwoClassPrecisionRecallOptimizerConverter`; processes within processes is not supported within \n",
    "# `multiprocessing` library and results in \"AssertionError: daemonic processes are not allowed to have children\"\n",
    "\n",
    "resampler.resample(data_x=data_x, data_y=data_y, hyper_params=RandomForestHP())  # default Random Forest Hyper Parameters"
   ]
  },
  {
   "cell_type": "markdown",
   "metadata": {},
   "source": [
    "Again, we piggy-backed off of the work that the Resampler is doing anyway, to also give us the ideal thresholds (for both ROC and Precision/Recall Curves) at each fold/repeat, as shown below:"
   ]
  },
  {
   "cell_type": "code",
   "execution_count": 16,
   "metadata": {},
   "outputs": [
    {
     "data": {
      "text/plain": [
       "[0.45,\n",
       " 0.39,\n",
       " 0.31,\n",
       " 0.24,\n",
       " 0.37,\n",
       " 0.36,\n",
       " 0.46,\n",
       " 0.48,\n",
       " 0.32,\n",
       " 0.48,\n",
       " 0.35,\n",
       " 0.57,\n",
       " 0.5,\n",
       " 0.34,\n",
       " 0.23,\n",
       " 0.52,\n",
       " 0.47,\n",
       " 0.37,\n",
       " 0.54,\n",
       " 0.35,\n",
       " 0.45,\n",
       " 0.42,\n",
       " 0.42,\n",
       " 0.39,\n",
       " 0.32]"
      ]
     },
     "execution_count": 16,
     "metadata": {},
     "output_type": "execute_result"
    }
   ],
   "source": [
    "decorator.roc_ideal_thresholds"
   ]
  },
  {
   "cell_type": "code",
   "execution_count": 17,
   "metadata": {},
   "outputs": [],
   "source": [
    "ideal_thresholds_cache = decorator.roc_ideal_thresholds"
   ]
  },
  {
   "cell_type": "code",
   "execution_count": 18,
   "metadata": {},
   "outputs": [
    {
     "data": {
      "text/plain": [
       "[0.45,\n",
       " 0.44,\n",
       " 0.31,\n",
       " 0.24,\n",
       " 0.53,\n",
       " 0.36,\n",
       " 0.46,\n",
       " 0.63,\n",
       " 0.76,\n",
       " 0.48,\n",
       " 0.54,\n",
       " 0.59,\n",
       " 0.5,\n",
       " 0.46,\n",
       " 0.71,\n",
       " 0.52,\n",
       " 0.6,\n",
       " 0.39,\n",
       " 0.68,\n",
       " 0.27,\n",
       " 0.5,\n",
       " 0.42,\n",
       " 0.42,\n",
       " 0.39,\n",
       " 0.56]"
      ]
     },
     "execution_count": 18,
     "metadata": {},
     "output_type": "execute_result"
    }
   ],
   "source": [
    "decorator.precision_recall_ideal_thresholds"
   ]
  },
  {
   "cell_type": "markdown",
   "metadata": {},
   "source": [
    "We can also easily get the **`mean`**, **`standard deviation`**, and **`coefficient of variation`** associated with each set of ideal thresholds. "
   ]
  },
  {
   "cell_type": "code",
   "execution_count": 24,
   "metadata": {},
   "outputs": [
    {
     "data": {
      "text/plain": [
       "0.40399999999999997"
      ]
     },
     "execution_count": 24,
     "metadata": {},
     "output_type": "execute_result"
    }
   ],
   "source": [
    "decorator.roc_threshold_mean"
   ]
  },
  {
   "cell_type": "code",
   "execution_count": 25,
   "metadata": {},
   "outputs": [
    {
     "data": {
      "text/plain": [
       "0.48840000000000006"
      ]
     },
     "execution_count": 25,
     "metadata": {},
     "output_type": "execute_result"
    }
   ],
   "source": [
    "decorator.precision_recall_threshold_mean"
   ]
  },
  {
   "cell_type": "code",
   "execution_count": 26,
   "metadata": {},
   "outputs": [
    {
     "data": {
      "text/plain": [
       "0.08653323061113574"
      ]
     },
     "execution_count": 26,
     "metadata": {},
     "output_type": "execute_result"
    }
   ],
   "source": [
    "decorator.roc_threshold_st_dev"
   ]
  },
  {
   "cell_type": "code",
   "execution_count": 27,
   "metadata": {},
   "outputs": [
    {
     "data": {
      "text/plain": [
       "0.1273005891581025"
      ]
     },
     "execution_count": 27,
     "metadata": {},
     "output_type": "execute_result"
    }
   ],
   "source": [
    "decorator.precision_recall_threshold_st_dev"
   ]
  },
  {
   "cell_type": "code",
   "execution_count": 28,
   "metadata": {},
   "outputs": [
    {
     "data": {
      "text/plain": [
       "0.21"
      ]
     },
     "execution_count": 28,
     "metadata": {},
     "output_type": "execute_result"
    }
   ],
   "source": [
    "decorator.roc_threshold_cv"
   ]
  },
  {
   "cell_type": "code",
   "execution_count": 29,
   "metadata": {},
   "outputs": [
    {
     "data": {
      "text/plain": [
       "0.26"
      ]
     },
     "execution_count": 29,
     "metadata": {},
     "output_type": "execute_result"
    }
   ],
   "source": [
    "decorator.precision_recall_threshold_cv"
   ]
  },
  {
   "cell_type": "markdown",
   "metadata": {},
   "source": [
    "## Decorators w/ Parallelization"
   ]
  },
  {
   "cell_type": "markdown",
   "metadata": {},
   "source": [
    "The `TwoClassThresholdDecorator` class uses parallelization by default (via `TwoClassRocOptimizerConverter` and\n",
    "`TwoClassPrecisionRecallOptimizerConverter`). This means we cannot use parallelization with the `RepeatedCrossValidationResampler` class because we cannot start a parallel process within a process in `multiprocessing` module. \n",
    "\n",
    "However, we can turn off parallelization in the `TwoClassThresholdDecorator` object and then turn it on in the Resampler object, which is what we do below."
   ]
  },
  {
   "cell_type": "code",
   "execution_count": 30,
   "metadata": {},
   "outputs": [],
   "source": [
    "# define decorator; turn off parallelization for decorator so we can use it in Resampler\n",
    "decorator = TwoClassThresholdDecorator(parallelization_cores=0)\n",
    "\n",
    "# define the transformations\n",
    "transformations = [RemoveColumnsTransformer(['PassengerId', 'Name', 'Ticket', 'Cabin']),\n",
    "                   CategoricConverterTransformer(['Pclass', 'SibSp', 'Parch']),\n",
    "                   ImputationTransformer(),\n",
    "                   DummyEncodeTransformer(CategoricalEncoding.ONE_HOT)]\n",
    "\n",
    "# define the scores, which will be used to compare the performance of each fold and overall\n",
    "# the scores need a Converter, which contains the logic necessary to convert the predicted values to a predicted class.\n",
    "score_list = [AucRocScore(positive_class='lived'),\n",
    "              KappaScore(converter=TwoClassThresholdConverter(threshold=0.5, positive_class='lived')),\n",
    "              SensitivityScore(converter=TwoClassThresholdConverter(threshold=0.5, positive_class='lived')),\n",
    "              SpecificityScore(converter=TwoClassThresholdConverter(threshold=0.5, positive_class='lived')),\n",
    "              ErrorRateScore(converter=TwoClassThresholdConverter(threshold=0.5, positive_class='lived'))]\n",
    "\n",
    "# define & configure the Resampler object\n",
    "resampler = RepeatedCrossValidationResampler(\n",
    "    model=RandomForestClassifier(),  # we'll use a Random Forest model\n",
    "    transformations=transformations,\n",
    "    scores=score_list,\n",
    "    folds=5,  # 5 folds with 5 repeats\n",
    "    repeats=5,\n",
    "    fold_decorators=[decorator],\n",
    "    parallelization_cores=-1)\n",
    "\n",
    "resampler.resample(data_x=data_x, data_y=data_y, hyper_params=RandomForestHP())  # default Random Forest Hyper Parameters"
   ]
  },
  {
   "cell_type": "code",
   "execution_count": 33,
   "metadata": {},
   "outputs": [
    {
     "data": {
      "text/plain": [
       "[]"
      ]
     },
     "execution_count": 33,
     "metadata": {},
     "output_type": "execute_result"
    }
   ],
   "source": [
    "decorator.roc_ideal_thresholds"
   ]
  },
  {
   "cell_type": "markdown",
   "metadata": {},
   "source": [
    "Now we don't have any thresholds...\n",
    "\n",
    "In the previous example, we used the original Decorator object (passed into the Resampler) to get the information we wanted.\n",
    "\n",
    "However, because we used parallelization with this Resampler, the original decorator object was not used directly. Rather, it was copied into the process. Now, we have to get the saved decorators (per repeat) from\n",
    "`fold_decorators`\n",
    "\n",
    "Because `5` repeats were used, there 5 items in the `fold_decorators` list.\n",
    "\n",
    "That means we need to concatenate (or flatten) to get the equivalent of the non-parallelization scenario."
   ]
  },
  {
   "cell_type": "code",
   "execution_count": 36,
   "metadata": {},
   "outputs": [],
   "source": [
    "ideal_thresholds = list()\n",
    "for index in range(len(resampler.decorators)):\n",
    "    ideal_thresholds.extend(resampler.decorators[index].roc_ideal_thresholds)"
   ]
  },
  {
   "cell_type": "code",
   "execution_count": 37,
   "metadata": {},
   "outputs": [
    {
     "data": {
      "text/plain": [
       "[0.45,\n",
       " 0.39,\n",
       " 0.31,\n",
       " 0.24,\n",
       " 0.37,\n",
       " 0.36,\n",
       " 0.46,\n",
       " 0.48,\n",
       " 0.32,\n",
       " 0.48,\n",
       " 0.35,\n",
       " 0.57,\n",
       " 0.5,\n",
       " 0.34,\n",
       " 0.23,\n",
       " 0.52,\n",
       " 0.47,\n",
       " 0.37,\n",
       " 0.54,\n",
       " 0.35,\n",
       " 0.45,\n",
       " 0.42,\n",
       " 0.42,\n",
       " 0.39,\n",
       " 0.32]"
      ]
     },
     "execution_count": 37,
     "metadata": {},
     "output_type": "execute_result"
    }
   ],
   "source": [
    "ideal_thresholds"
   ]
  },
  {
   "cell_type": "code",
   "execution_count": 38,
   "metadata": {},
   "outputs": [
    {
     "data": {
      "text/plain": [
       "True"
      ]
     },
     "execution_count": 38,
     "metadata": {},
     "output_type": "execute_result"
    }
   ],
   "source": [
    "ideal_thresholds == ideal_thresholds_cache"
   ]
  },
  {
   "cell_type": "markdown",
   "metadata": {},
   "source": [
    "We've confirmed that, once we combined and \"flattened\" out the values from the list of decorators, we have the same list as the non-parallelized version."
   ]
  }
 ],
 "metadata": {
  "kernelspec": {
   "display_name": "Python [default]",
   "language": "python",
   "name": "python3"
  },
  "language_info": {
   "codemirror_mode": {
    "name": "ipython",
    "version": 3
   },
   "file_extension": ".py",
   "mimetype": "text/x-python",
   "name": "python",
   "nbconvert_exporter": "python",
   "pygments_lexer": "ipython3",
   "version": "3.6.8"
  }
 },
 "nbformat": 4,
 "nbformat_minor": 2
}
